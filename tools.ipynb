{
 "cells": [
  {
   "cell_type": "markdown",
   "metadata": {
    "toc": true
   },
   "source": [
    "<h1>Table of Contents<span class=\"tocSkip\"></span></h1>\n",
    "<div class=\"toc\" style=\"margin-top: 1em;\"><ul class=\"toc-item\"></ul></div>"
   ]
  },
  {
   "cell_type": "code",
   "execution_count": 1,
   "metadata": {},
   "outputs": [
    {
     "name": "stderr",
     "output_type": "stream",
     "text": [
      "Enabling notebook extension collapsible_headings/main...\n",
      "      - Validating: problems found:\n",
      "        - require? \u001b[31m X\u001b[0m collapsible_headings/main\n",
      "Enabling notebook extension init_cell/main...\n",
      "      - Validating: problems found:\n",
      "        - require? \u001b[31m X\u001b[0m init_cell/main\n",
      "Enabling notebook extension keyboard_shortcut_editor/main...\n",
      "      - Validating: problems found:\n",
      "        - require? \u001b[31m X\u001b[0m keyboard_shortcut_editor/main\n",
      "Enabling notebook extension comment-uncomment/main...\n",
      "      - Validating: problems found:\n",
      "        - require? \u001b[31m X\u001b[0m comment-uncomment/main\n",
      "Enabling notebook extension hinterland/hinterland...\n",
      "      - Validating: problems found:\n",
      "        - require? \u001b[31m X\u001b[0m hinterland/hinterland\n",
      "Enabling notebook extension navigation-hotkeys/main...\n",
      "      - Validating: problems found:\n",
      "        - require? \u001b[31m X\u001b[0m navigation-hotkeys/main\n",
      "Enabling notebook extension spellchecker/main...\n",
      "      - Validating: problems found:\n",
      "        - require? \u001b[31m X\u001b[0m spellchecker/main\n",
      "Enabling notebook extension move_selected_cells/main...\n",
      "      - Validating: problems found:\n",
      "        - require? \u001b[31m X\u001b[0m move_selected_cells/main\n",
      "Enabling notebook extension varInspector/main...\n",
      "      - Validating: problems found:\n",
      "        - require? \u001b[31m X\u001b[0m varInspector/main\n",
      "Enabling notebook extension scratchpad/main...\n",
      "      - Validating: problems found:\n",
      "        - require? \u001b[31m X\u001b[0m scratchpad/main\n",
      "Enabling notebook extension toc2/main...\n",
      "      - Validating: problems found:\n",
      "        - require? \u001b[31m X\u001b[0m toc2/main\n",
      "Enabling notebook extension python-markdown/main...\n",
      "      - Validating: problems found:\n",
      "        - require? \u001b[31m X\u001b[0m python-markdown/main\n",
      "Enabling notebook extension splitcell/splitcell...\n",
      "      - Validating: problems found:\n",
      "        - require? \u001b[31m X\u001b[0m splitcell/splitcell\n",
      "Enabling notebook extension hide_input/main...\n",
      "      - Validating: problems found:\n",
      "        - require? \u001b[31m X\u001b[0m hide_input/main\n"
     ]
    }
   ],
   "source": [
    "# %%bash\n",
    "# jupyter nbextension enable collapsible_headings/main\n",
    "# jupyter nbextension enable init_cell/main\n",
    "# jupyter nbextension enable keyboard_shortcut_editor/main\n",
    "# jupyter nbextension enable comment-uncomment/main\n",
    "# jupyter nbextension enable hinterland/hinterland\n",
    "# jupyter nbextension enable navigation-hotkeys/main\n",
    "# jupyter nbextension enable spellchecker/main\n",
    "# jupyter nbextension enable move_selected_cells/main\n",
    "# jupyter nbextension enable varInspector/main\n",
    "# jupyter nbextension enable scratchpad/main\n",
    "# jupyter nbextension enable toc2/main\n",
    "# jupyter nbextension enable python-markdown/main\n",
    "# jupyter nbextension enable splitcell/splitcell\n",
    "# jupyter nbextension enable hide_input/main"
   ]
  },
  {
   "cell_type": "code",
   "execution_count": 2,
   "metadata": {
    "collapsed": true
   },
   "outputs": [],
   "source": [
    "# From: https://gist.github.com/mrluanma/1480728\n",
    "flatten = lambda lst: reduce(lambda l, i: l + flatten(i) if isinstance(i, (list, tuple)) else l + [i], lst, [])  "
   ]
  },
  {
   "cell_type": "code",
   "execution_count": 3,
   "metadata": {
    "collapsed": true
   },
   "outputs": [],
   "source": [
    "from efprob.efprob_qu import *"
   ]
  },
  {
   "cell_type": "code",
   "execution_count": 4,
   "metadata": {
    "collapsed": true
   },
   "outputs": [],
   "source": [
    "import matplotlib.pyplot as plt\n",
    "from itertools import *\n",
    "import operator\n",
    "from toolz import *\n",
    "from toolz.curried import *"
   ]
  },
  {
   "cell_type": "code",
   "execution_count": 5,
   "metadata": {
    "collapsed": true
   },
   "outputs": [],
   "source": [
    "import sympy as sym\n",
    "from sympy.interactive.printing import init_printing"
   ]
  },
  {
   "cell_type": "code",
   "execution_count": 6,
   "metadata": {},
   "outputs": [
    {
     "name": "stdout",
     "output_type": "stream",
     "text": [
      "Requirement already satisfied: more-itertools in /home/geli/anaconda3/lib/python3.6/site-packages\n",
      "Requirement already satisfied: six<2.0.0,>=1.0.0 in /home/geli/anaconda3/lib/python3.6/site-packages (from more-itertools)\n",
      "\u001b[33mYou are using pip version 9.0.1, however version 10.0.1 is available.\n",
      "You should consider upgrading via the 'pip install --upgrade pip' command.\u001b[0m\n"
     ]
    }
   ],
   "source": [
    "!pip install more-itertools\n",
    "from more_itertools import *"
   ]
  },
  {
   "cell_type": "code",
   "execution_count": 7,
   "metadata": {
    "collapsed": true
   },
   "outputs": [],
   "source": [
    "def R(theta, dim=2):\n",
    "    \"\"\"\n",
    "    Rotation array.\n",
    "    ----\n",
    "    theta: a scalar or a list.\n",
    "    dim: 2 (default) or 3\n",
    "    \n",
    "    return: the rotation array(s) of the shape (dim, dim).\n",
    "    \"\"\"\n",
    "    \n",
    "    if (type(theta) != list): theta = [theta]\n",
    "    \n",
    "    rs = list()\n",
    "    for t in theta:\n",
    "        r = np.array([[np.cos(t), -np.sin(t)],\n",
    "                      [np.sin(t), np.cos(t)]])\n",
    "        if dim==3:\n",
    "            r = np.pad(r, ((0,1),(0,1)), 'constant')\n",
    "            r[-1, -1] = 1\n",
    "        rs.append(r)\n",
    "    if len(rs)==1: rs = rs[0]\n",
    "    return rs"
   ]
  },
  {
   "cell_type": "code",
   "execution_count": 8,
   "metadata": {
    "collapsed": true
   },
   "outputs": [],
   "source": [
    "def sqrt_diag(E):\n",
    "    if type(E) != list: E = [E]\n",
    "    v, s, vh = np.linalg.svd(E)\n",
    "    Ms = [v.dot(np.diag(np.sqrt(s)).dot(vh)) for v,s,vh in zip(v,s,vh)]\n",
    "    if len(Ms) == 1: Ms = Ms[0]\n",
    "    return Ms"
   ]
  },
  {
   "cell_type": "code",
   "execution_count": 9,
   "metadata": {
    "collapsed": true
   },
   "outputs": [],
   "source": [
    "# def prints(iterator, func= lambda arg: arg):\n",
    "#     for x in iterator:\n",
    "#         print(func(x))"
   ]
  },
  {
   "cell_type": "code",
   "execution_count": 10,
   "metadata": {
    "collapsed": true
   },
   "outputs": [],
   "source": [
    "def prints(*iterator, func= lambda arg: arg):\n",
    "    for x in iterator:\n",
    "        print(func(x))"
   ]
  },
  {
   "cell_type": "code",
   "execution_count": 11,
   "metadata": {},
   "outputs": [
    {
     "name": "stdout",
     "output_type": "stream",
     "text": [
      "...Done\n"
     ]
    }
   ],
   "source": [
    "print('...Done')"
   ]
  }
 ],
 "metadata": {
  "kernelspec": {
   "display_name": "Python 3",
   "language": "python",
   "name": "python3"
  },
  "language_info": {
   "codemirror_mode": {
    "name": "ipython",
    "version": 3
   },
   "file_extension": ".py",
   "mimetype": "text/x-python",
   "name": "python",
   "nbconvert_exporter": "python",
   "pygments_lexer": "ipython3",
   "version": "3.6.4"
  },
  "latex_envs": {
   "LaTeX_envs_menu_present": true,
   "autoclose": false,
   "autocomplete": true,
   "bibliofile": "biblio.bib",
   "cite_by": "apalike",
   "current_citInitial": 1,
   "eqLabelWithNumbers": true,
   "eqNumInitial": 1,
   "hotkeys": {
    "equation": "Ctrl-E",
    "itemize": "Ctrl-I"
   },
   "labels_anchors": false,
   "latex_user_defs": false,
   "report_style_numbering": false,
   "user_envs_cfg": false
  },
  "toc": {
   "nav_menu": {},
   "number_sections": true,
   "sideBar": true,
   "skip_h1_title": false,
   "toc_cell": true,
   "toc_position": {},
   "toc_section_display": "block",
   "toc_window_display": false
  },
  "varInspector": {
   "cols": {
    "lenName": 16,
    "lenType": 16,
    "lenVar": 40
   },
   "kernels_config": {
    "python": {
     "delete_cmd_postfix": "",
     "delete_cmd_prefix": "del ",
     "library": "var_list.py",
     "varRefreshCmd": "print(var_dic_list())"
    },
    "r": {
     "delete_cmd_postfix": ") ",
     "delete_cmd_prefix": "rm(",
     "library": "var_list.r",
     "varRefreshCmd": "cat(var_dic_list()) "
    }
   },
   "types_to_exclude": [
    "module",
    "function",
    "builtin_function_or_method",
    "instance",
    "_Feature"
   ],
   "window_display": false
  }
 },
 "nbformat": 4,
 "nbformat_minor": 2
}
