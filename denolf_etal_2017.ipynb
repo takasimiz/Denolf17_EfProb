{
 "cells": [
  {
   "cell_type": "markdown",
   "metadata": {},
   "source": [
    "# Init"
   ]
  },
  {
   "cell_type": "code",
   "execution_count": 33,
   "metadata": {
    "scrolled": false
   },
   "outputs": [
    {
     "name": "stdout",
     "output_type": "stream",
     "text": [
      "...Done\n"
     ]
    }
   ],
   "source": [
    "%run 'tools.ipynb'\n",
    "init_printing(use_unicode=False, wrap_line=False, no_global=True)"
   ]
  },
  {
   "cell_type": "markdown",
   "metadata": {},
   "source": [
    "## Classical state"
   ]
  },
  {
   "cell_type": "markdown",
   "metadata": {},
   "source": [
    "Eq.10"
   ]
  },
  {
   "cell_type": "code",
   "execution_count": 34,
   "metadata": {},
   "outputs": [
    {
     "data": {
      "text/plain": [
       "[[ 0.25   0.     0.     0.   ]\n",
       " [ 0.     0.025  0.     0.   ]\n",
       " [ 0.     0.     0.3    0.   ]\n",
       " [ 0.     0.     0.     0.425]]"
      ]
     },
     "execution_count": 34,
     "metadata": {},
     "output_type": "execute_result"
    }
   ],
   "source": [
    "ss = State(np.diag([0.25, 0.025, 0.3, 0.425]),[2,2]);ss"
   ]
  },
  {
   "cell_type": "code",
   "execution_count": 35,
   "metadata": {},
   "outputs": [
    {
     "data": {
      "text/plain": [
       "False"
      ]
     },
     "execution_count": 35,
     "metadata": {},
     "output_type": "execute_result"
    }
   ],
   "source": [
    "isEntangled(ss)"
   ]
  },
  {
   "cell_type": "code",
   "execution_count": 36,
   "metadata": {},
   "outputs": [
    {
     "ename": "NameError",
     "evalue": "name 'isE' is not defined",
     "output_type": "error",
     "traceback": [
      "\u001b[0;31m---------------------------------------------------------------------------\u001b[0m",
      "\u001b[0;31mNameError\u001b[0m                                 Traceback (most recent call last)",
      "\u001b[0;32m<ipython-input-36-8143657699aa>\u001b[0m in \u001b[0;36m<module>\u001b[0;34m()\u001b[0m\n\u001b[0;32m----> 1\u001b[0;31m \u001b[0misE\u001b[0m\u001b[0;34m\u001b[0m\u001b[0m\n\u001b[0m",
      "\u001b[0;31mNameError\u001b[0m: name 'isE' is not defined"
     ]
    }
   ],
   "source": [
    "isE"
   ]
  },
  {
   "cell_type": "code",
   "execution_count": 19,
   "metadata": {},
   "outputs": [
    {
     "data": {
      "text/plain": [
       "(array([ 0.25 ,  0.025,  0.3  ,  0.425]), array([[ 1.,  0.,  0.,  0.],\n",
       "        [ 0.,  1.,  0.,  0.],\n",
       "        [ 0.,  0.,  1.,  0.],\n",
       "        [ 0.,  0.,  0.,  1.]]))"
      ]
     },
     "execution_count": 19,
     "metadata": {},
     "output_type": "execute_result"
    }
   ],
   "source": [
    "np.linalg.eig(ss.array)"
   ]
  },
  {
   "cell_type": "code",
   "execution_count": 20,
   "metadata": {
    "collapsed": true
   },
   "outputs": [],
   "source": [
    "N = 9"
   ]
  },
  {
   "cell_type": "code",
   "execution_count": 21,
   "metadata": {
    "scrolled": true
   },
   "outputs": [
    {
     "data": {
      "text/plain": [
       "[array([[ 1., -0.],\n",
       "        [ 0.,  1.]]), array([[ 0.98480775, -0.17364818],\n",
       "        [ 0.17364818,  0.98480775]]), array([[ 0.93969262, -0.34202014],\n",
       "        [ 0.34202014,  0.93969262]]), array([[ 0.8660254, -0.5      ],\n",
       "        [ 0.5      ,  0.8660254]]), array([[ 0.76604444, -0.64278761],\n",
       "        [ 0.64278761,  0.76604444]]), array([[ 0.64278761, -0.76604444],\n",
       "        [ 0.76604444,  0.64278761]]), array([[ 0.5      , -0.8660254],\n",
       "        [ 0.8660254,  0.5      ]]), array([[ 0.34202014, -0.93969262],\n",
       "        [ 0.93969262,  0.34202014]]), array([[ 0.17364818, -0.98480775],\n",
       "        [ 0.98480775,  0.17364818]]), array([[  6.12323400e-17,  -1.00000000e+00],\n",
       "        [  1.00000000e+00,   6.12323400e-17]])]"
      ]
     },
     "execution_count": 21,
     "metadata": {},
     "output_type": "execute_result"
    }
   ],
   "source": [
    "ps = [R(i*np.pi/(2*N)) for i in range(0,N+1)]; ps"
   ]
  },
  {
   "cell_type": "code",
   "execution_count": 22,
   "metadata": {},
   "outputs": [
    {
     "data": {
      "text/plain": [
       "[[[ 1.+0.j  0.+0.j]\n",
       "  [ 0.+0.j  0.+0.j]], [[ 0.96984631+0.j -0.17101007+0.j]\n",
       "  [-0.17101007+0.j  0.03015369+0.j]], [[ 0.88302222+0.j -0.32139380+0.j]\n",
       "  [-0.32139380+0.j  0.11697778+0.j]], [[ 0.7500000+0.j -0.4330127+0.j]\n",
       "  [-0.4330127+0.j  0.2500000+0.j]], [[ 0.58682409+0.j -0.49240388+0.j]\n",
       "  [-0.49240388+0.j  0.41317591+0.j]], [[ 0.41317591+0.j -0.49240388+0.j]\n",
       "  [-0.49240388+0.j  0.58682409+0.j]], [[ 0.2500000+0.j -0.4330127+0.j]\n",
       "  [-0.4330127+0.j  0.7500000+0.j]], [[ 0.11697778+0.j -0.32139380+0.j]\n",
       "  [-0.32139380+0.j  0.88302222+0.j]], [[ 0.03015369+0.j -0.17101007+0.j]\n",
       "  [-0.17101007+0.j  0.96984631+0.j]], [[  3.74939946e-33+0.j  -6.12323400e-17+0.j]\n",
       "  [ -6.12323400e-17+0.j   1.00000000e+00+0.j]]]"
      ]
     },
     "execution_count": 22,
     "metadata": {},
     "output_type": "execute_result"
    }
   ],
   "source": [
    "ps = [channel_from_isometry(R(i*np.pi/(2*N)),[2],[2]) << point_pred(0,2) for i in range(0,N+1)]; ps"
   ]
  },
  {
   "cell_type": "code",
   "execution_count": 23,
   "metadata": {},
   "outputs": [
    {
     "data": {
      "image/png": "[encoded data removed]",
      "text/latex": [
       "$$\\left [ 0.275, \\quad 0.288569160323, \\quad 0.327640000298, \\quad 0.3875, \\quad 0.460929160025, \\quad 0.539070839975, \\quad 0.6125, \\quad 0.672359999702, \\quad 0.711430839677, \\quad 0.725\\right ]$$"
      ],
      "text/plain": [
       "[0.275, 0.288569160323, 0.327640000298, 0.3875, 0.460929160025, 0.539070839975, 0.6125, 0.672359999702, 0.711430839677, 0.725]"
      ]
     },
     "execution_count": 23,
     "metadata": {},
     "output_type": "execute_result"
    }
   ],
   "source": [
    "probs = [ss%[1,0] >= p for p in ps]; probs"
   ]
  },
  {
   "cell_type": "code",
   "execution_count": 24,
   "metadata": {
    "collapsed": true
   },
   "outputs": [],
   "source": [
    "C = sum(probs)"
   ]
  },
  {
   "cell_type": "code",
   "execution_count": 28,
   "metadata": {
    "collapsed": true
   },
   "outputs": [],
   "source": [
    "C = 0.5*(N + 1 + 1.0/np.tan(np.pi/(2*N)))"
   ]
  },
  {
   "cell_type": "code",
   "execution_count": 29,
   "metadata": {},
   "outputs": [
    {
     "data": {
      "text/plain": [
       "[[[ 0.12762198+0.j  0.00000000+0.j]\n",
       "  [ 0.00000000+0.j  0.00000000+0.j]], [[ 0.12377371+0.j -0.02182464+0.j]\n",
       "  [-0.02182464+0.j  0.00384827+0.j]], [[ 0.11269304+0.j -0.04101691+0.j]\n",
       "  [-0.04101691+0.j  0.01492894+0.j]], [[ 0.09571648+0.j -0.05526194+0.j]\n",
       "  [-0.05526194+0.j  0.03190549+0.j]], [[ 0.07489165+0.j -0.06284156+0.j]\n",
       "  [-0.06284156+0.j  0.05273033+0.j]], [[ 0.05273033+0.j -0.06284156+0.j]\n",
       "  [-0.06284156+0.j  0.07489165+0.j]], [[ 0.03190549+0.j -0.05526194+0.j]\n",
       "  [-0.05526194+0.j  0.09571648+0.j]], [[ 0.01492894+0.j -0.04101691+0.j]\n",
       "  [-0.04101691+0.j  0.11269304+0.j]], [[ 0.00384827+0.j -0.02182464+0.j]\n",
       "  [-0.02182464+0.j  0.12377371+0.j]], [[  4.78505779e-34+0.j  -7.81459241e-18+0.j]\n",
       "  [ -7.81459241e-18+0.j   1.27621979e-01+0.j]]]"
      ]
     },
     "execution_count": 29,
     "metadata": {},
     "output_type": "execute_result"
    }
   ],
   "source": [
    "ps2 =  [Predicate(p.array/C,[2]) for p in ps]; ps2"
   ]
  },
  {
   "cell_type": "code",
   "execution_count": 30,
   "metadata": {},
   "outputs": [
    {
     "data": {
      "image/png": "[encoded data removed]",
      "text/latex": [
       "$$0.638109895228$$"
      ],
      "text/plain": [
       "0.638109895228"
      ]
     },
     "execution_count": 30,
     "metadata": {},
     "output_type": "execute_result"
    }
   ],
   "source": [
    "sum([ss%[1,0] >= p for p in ps2])"
   ]
  },
  {
   "cell_type": "code",
   "execution_count": 31,
   "metadata": {
    "collapsed": true
   },
   "outputs": [],
   "source": [
    "def is_POVM(ps):\n",
    "    ps = list(map(lambda x: x.array if isinstance(x, (Predicate,State)) else x, ps))\n",
    "    return np.all(np.isclose(np.identity(ps[0].ndim), np.sum(ps, axis=0))) & np.all([is_positive(p) for p in ps])"
   ]
  },
  {
   "cell_type": "code",
   "execution_count": 32,
   "metadata": {},
   "outputs": [
    {
     "data": {
      "text/plain": [
       "[True, True, True, True, True, True, True, True, True, True]"
      ]
     },
     "execution_count": 32,
     "metadata": {},
     "output_type": "execute_result"
    }
   ],
   "source": [
    "list(map(lambda p: is_positive(p.array), ps))"
   ]
  },
  {
   "cell_type": "code",
   "execution_count": 33,
   "metadata": {},
   "outputs": [
    {
     "data": {
      "text/plain": [
       "[True, True, True, True, True, True, True, True, True, True]"
      ]
     },
     "execution_count": 33,
     "metadata": {},
     "output_type": "execute_result"
    }
   ],
   "source": [
    "list(map(lambda p: is_positive(p.array), ps2))"
   ]
  },
  {
   "cell_type": "code",
   "execution_count": 34,
   "metadata": {},
   "outputs": [
    {
     "data": {
      "text/plain": [
       "array([[ 0.6381099+0.j, -0.3618901+0.j],\n",
       "       [-0.3618901+0.j,  0.6381099+0.j]])"
      ]
     },
     "execution_count": 34,
     "metadata": {},
     "output_type": "execute_result"
    }
   ],
   "source": [
    "np.sum(list(map(lambda p: p.array, ps2)), axis=0)"
   ]
  },
  {
   "cell_type": "code",
   "execution_count": 35,
   "metadata": {},
   "outputs": [
    {
     "data": {
      "text/plain": [
       "array([[ 0.3618901+0.j,  0.3618901+0.j],\n",
       "       [ 0.3618901+0.j,  0.3618901+0.j]])"
      ]
     },
     "execution_count": 35,
     "metadata": {},
     "output_type": "execute_result"
    }
   ],
   "source": [
    "pE = np.identity(2) - np.sum(list(map(lambda p: p.array, ps2)), axis=0); pE"
   ]
  },
  {
   "cell_type": "code",
   "execution_count": 36,
   "metadata": {},
   "outputs": [
    {
     "data": {
      "text/plain": [
       "[array([[ 0.12762198+0.j,  0.00000000+0.j],\n",
       "        [ 0.00000000+0.j,  0.00000000+0.j]]),\n",
       " array([[ 0.12377371+0.j, -0.02182464+0.j],\n",
       "        [-0.02182464+0.j,  0.00384827+0.j]]),\n",
       " array([[ 0.11269304+0.j, -0.04101691+0.j],\n",
       "        [-0.04101691+0.j,  0.01492894+0.j]]),\n",
       " array([[ 0.09571648+0.j, -0.05526194+0.j],\n",
       "        [-0.05526194+0.j,  0.03190549+0.j]]),\n",
       " array([[ 0.07489165+0.j, -0.06284156+0.j],\n",
       "        [-0.06284156+0.j,  0.05273033+0.j]]),\n",
       " array([[ 0.05273033+0.j, -0.06284156+0.j],\n",
       "        [-0.06284156+0.j,  0.07489165+0.j]]),\n",
       " array([[ 0.03190549+0.j, -0.05526194+0.j],\n",
       "        [-0.05526194+0.j,  0.09571648+0.j]]),\n",
       " array([[ 0.01492894+0.j, -0.04101691+0.j],\n",
       "        [-0.04101691+0.j,  0.11269304+0.j]]),\n",
       " array([[ 0.00384827+0.j, -0.02182464+0.j],\n",
       "        [-0.02182464+0.j,  0.12377371+0.j]]),\n",
       " array([[  4.78505779e-34+0.j,  -7.81459241e-18+0.j],\n",
       "        [ -7.81459241e-18+0.j,   1.27621979e-01+0.j]]),\n",
       " array([[ 0.3618901+0.j,  0.3618901+0.j],\n",
       "        [ 0.3618901+0.j,  0.3618901+0.j]])]"
      ]
     },
     "execution_count": 36,
     "metadata": {},
     "output_type": "execute_result"
    }
   ],
   "source": [
    "povm = list(map(lambda p: p.array, ps2)) + [pE]; povm"
   ]
  },
  {
   "cell_type": "code",
   "execution_count": 37,
   "metadata": {},
   "outputs": [
    {
     "data": {
      "text/plain": [
       "True"
      ]
     },
     "execution_count": 37,
     "metadata": {},
     "output_type": "execute_result"
    }
   ],
   "source": [
    "is_POVM(povm)"
   ]
  },
  {
   "cell_type": "code",
   "execution_count": 38,
   "metadata": {},
   "outputs": [
    {
     "data": {
      "text/plain": [
       "True"
      ]
     },
     "execution_count": 38,
     "metadata": {},
     "output_type": "execute_result"
    }
   ],
   "source": [
    "is_unitary(R(0))"
   ]
  },
  {
   "cell_type": "code",
   "execution_count": 39,
   "metadata": {
    "collapsed": true
   },
   "outputs": [],
   "source": [
    "k = Kraus(povm, Dom([2]), Dom([2]))\n",
    "c = k.as_channel()"
   ]
  },
  {
   "cell_type": "code",
   "execution_count": 40,
   "metadata": {},
   "outputs": [
    {
     "data": {
      "text/plain": [
       "[array([[ 0.12762198+0.j,  0.00000000+0.j],\n",
       "        [ 0.00000000+0.j,  0.00000000+0.j]]),\n",
       " array([[ 0.12377371+0.j, -0.02182464+0.j],\n",
       "        [-0.02182464+0.j,  0.00384827+0.j]]),\n",
       " array([[ 0.11269304+0.j, -0.04101691+0.j],\n",
       "        [-0.04101691+0.j,  0.01492894+0.j]]),\n",
       " array([[ 0.09571648+0.j, -0.05526194+0.j],\n",
       "        [-0.05526194+0.j,  0.03190549+0.j]]),\n",
       " array([[ 0.07489165+0.j, -0.06284156+0.j],\n",
       "        [-0.06284156+0.j,  0.05273033+0.j]]),\n",
       " array([[ 0.05273033+0.j, -0.06284156+0.j],\n",
       "        [-0.06284156+0.j,  0.07489165+0.j]]),\n",
       " array([[ 0.03190549+0.j, -0.05526194+0.j],\n",
       "        [-0.05526194+0.j,  0.09571648+0.j]]),\n",
       " array([[ 0.01492894+0.j, -0.04101691+0.j],\n",
       "        [-0.04101691+0.j,  0.11269304+0.j]]),\n",
       " array([[ 0.00384827+0.j, -0.02182464+0.j],\n",
       "        [-0.02182464+0.j,  0.12377371+0.j]]),\n",
       " array([[  4.78505779e-34+0.j,  -7.81459241e-18+0.j],\n",
       "        [ -7.81459241e-18+0.j,   1.27621979e-01+0.j]]),\n",
       " array([[ 0.3618901+0.j,  0.3618901+0.j],\n",
       "        [ 0.3618901+0.j,  0.3618901+0.j]])]"
      ]
     },
     "execution_count": 40,
     "metadata": {},
     "output_type": "execute_result"
    }
   ],
   "source": [
    "povm"
   ]
  },
  {
   "cell_type": "code",
   "execution_count": 41,
   "metadata": {
    "collapsed": true
   },
   "outputs": [],
   "source": [
    "k = Kraus(sqrt_diag(povm), Dom([2]), Dom([2]))\n",
    "c = k.as_channel()"
   ]
  },
  {
   "cell_type": "code",
   "execution_count": 42,
   "metadata": {},
   "outputs": [
    {
     "data": {
      "text/plain": [
       "[[[[  6.75480224e-01+0.j   2.22586116e-10+0.j]\n",
       "   [  2.22586116e-10+0.j   3.24519776e-01+0.j]]\n",
       "\n",
       "  [[  2.22586116e-10+0.j   3.24519780e-01+0.j]\n",
       "   [  3.24519776e-01+0.j  -2.22586172e-10+0.j]]]\n",
       "\n",
       "\n",
       " [[[  2.22586116e-10+0.j   3.24519776e-01+0.j]\n",
       "   [  3.24519780e-01+0.j  -2.22586172e-10+0.j]]\n",
       "\n",
       "  [[  3.24519776e-01+0.j  -2.22586172e-10+0.j]\n",
       "   [ -2.22586172e-10+0.j   6.75480224e-01+0.j]]]]"
      ]
     },
     "execution_count": 42,
     "metadata": {},
     "output_type": "execute_result"
    }
   ],
   "source": [
    "c"
   ]
  },
  {
   "cell_type": "code",
   "execution_count": 43,
   "metadata": {},
   "outputs": [
    {
     "data": {
      "text/plain": [
       "[[  6.75480224e-01+0.j   2.22586116e-10+0.j]\n",
       " [  2.22586116e-10+0.j   3.24519776e-01+0.j]]"
      ]
     },
     "execution_count": 43,
     "metadata": {},
     "output_type": "execute_result"
    }
   ],
   "source": [
    "c << ket(0)"
   ]
  },
  {
   "cell_type": "code",
   "execution_count": 28,
   "metadata": {},
   "outputs": [
    {
     "data": {
      "text/plain": [
       "[[0.275 0.   ]\n",
       " [0.    0.725]]"
      ]
     },
     "execution_count": 28,
     "metadata": {},
     "output_type": "execute_result"
    }
   ],
   "source": [
    "ssss1 = ss % [1,0]; s1"
   ]
  },
  {
   "cell_type": "code",
   "execution_count": 31,
   "metadata": {},
   "outputs": [
    {
     "name": "stdout",
     "output_type": "stream",
     "text": [
      "  --> Warning: trace is not 1.0 in state creation, but: (10+0j)\n"
     ]
    },
    {
     "data": {
      "text/plain": [
       "[[ 5.        +0.j -1.27603841+0.j]\n",
       " [-1.27603841+0.j  5.        +0.j]]"
      ]
     },
     "execution_count": 31,
     "metadata": {},
     "output_type": "execute_result"
    }
   ],
   "source": [
    "c >> s1"
   ]
  },
  {
   "cell_type": "code",
   "execution_count": 13,
   "metadata": {},
   "outputs": [
    {
     "data": {
      "text/plain": [
       "[[0.275+0.j 0.   +0.j]\n",
       " [0.   +0.j 0.725+0.j]]"
      ]
     },
     "execution_count": 13,
     "metadata": {},
     "output_type": "execute_result"
    }
   ],
   "source": [
    "idn([2])@discard([2]) >> ss"
   ]
  },
  {
   "cell_type": "code",
   "execution_count": 61,
   "metadata": {},
   "outputs": [
    {
     "data": {
      "text/plain": [
       "array([[ 6.21502615, -6.21502615],\n",
       "       [ 6.21502615,  6.21502615]])"
      ]
     },
     "execution_count": 61,
     "metadata": {},
     "output_type": "execute_result"
    }
   ],
   "source": [
    "np.sum(ps,axis=0)"
   ]
  },
  {
   "cell_type": "code",
   "execution_count": 57,
   "metadata": {},
   "outputs": [
    {
     "data": {
      "text/plain": [
       "True"
      ]
     },
     "execution_count": 57,
     "metadata": {},
     "output_type": "execute_result"
    }
   ],
   "source": [
    "is_isometry(R(0))"
   ]
  },
  {
   "cell_type": "code",
   "execution_count": 58,
   "metadata": {},
   "outputs": [
    {
     "data": {
      "text/plain": [
       "[[[1.+0.j 0.+0.j]\n",
       "  [0.+0.j 0.+0.j]], [[ 0.96984631+0.j -0.17101007+0.j]\n",
       "  [-0.17101007+0.j  0.03015369+0.j]], [[ 0.88302222+0.j -0.3213938 +0.j]\n",
       "  [-0.3213938 +0.j  0.11697778+0.j]], [[ 0.75     +0.j -0.4330127+0.j]\n",
       "  [-0.4330127+0.j  0.25     +0.j]], [[ 0.58682409+0.j -0.49240388+0.j]\n",
       "  [-0.49240388+0.j  0.41317591+0.j]], [[ 0.41317591+0.j -0.49240388+0.j]\n",
       "  [-0.49240388+0.j  0.58682409+0.j]], [[ 0.25     +0.j -0.4330127+0.j]\n",
       "  [-0.4330127+0.j  0.75     +0.j]], [[ 0.11697778+0.j -0.3213938 +0.j]\n",
       "  [-0.3213938 +0.j  0.88302222+0.j]], [[ 0.03015369+0.j -0.17101007+0.j]\n",
       "  [-0.17101007+0.j  0.96984631+0.j]], [[ 3.74939946e-33+0.j -6.12323400e-17+0.j]\n",
       "  [-6.12323400e-17+0.j  1.00000000e+00+0.j]]]"
      ]
     },
     "execution_count": 58,
     "metadata": {},
     "output_type": "execute_result"
    }
   ],
   "source": [
    "[channel_from_isometry(R(i*np.pi/18), [2], [2]) << ket(0) for i in range(0,9+1)]"
   ]
  },
  {
   "cell_type": "markdown",
   "metadata": {},
   "source": [
    "# FAQ"
   ]
  },
  {
   "cell_type": "markdown",
   "metadata": {},
   "source": [
    "## Is $ s|_{p \\And q} = s|_p|_q$?"
   ]
  },
  {
   "cell_type": "code",
   "execution_count": 6,
   "metadata": {},
   "outputs": [
    {
     "name": "stdout",
     "output_type": "stream",
     "text": [
      "[[ 0.51693559+0.j         -0.47337051+0.09720758j]\n",
      " [-0.47337051-0.09720758j  0.48306441+0.j        ]] [[0.97222701+0.j         0.09530779+0.11421474j]\n",
      " [0.09530779-0.11421474j 0.20323384+0.j        ]] [[ 0.52245229+0.j         -0.31265545+0.07195271j]\n",
      " [-0.31265545-0.07195271j  0.78446002+0.j        ]]\n"
     ]
    }
   ],
   "source": [
    "s = random_state([2])\n",
    "p = random_pred([2])\n",
    "q = random_pred([2])\n",
    "print(s, p, q)"
   ]
  },
  {
   "cell_type": "code",
   "execution_count": 11,
   "metadata": {},
   "outputs": [
    {
     "name": "stdout",
     "output_type": "stream",
     "text": [
      "  --> Warning: trace is not 1.0 in state creation, but: (0.9999999860526194-1.9313532488460874e-17j)\n",
      "  --> Warning: trace is not 1.0 in state creation, but: (0.9999999946238839+1.3094661353238217e-16j)\n",
      "[[ 0.63997044-3.86270650e-17j -0.43386475-1.94770068e-01j]\n",
      " [-0.43386475+1.94770068e-01j  0.36002955+1.93135325e-17j]] [[ 0.70571027-3.58839769e-17j -0.1062441 -4.38361946e-01j]\n",
      " [-0.1062441 +4.38361946e-01j  0.29428973-3.58839769e-17j]]\n"
     ]
    }
   ],
   "source": [
    "print(s/(p&q),\n",
    "s/p/q)"
   ]
  },
  {
   "cell_type": "markdown",
   "metadata": {},
   "source": [
    "...apparently not."
   ]
  },
  {
   "cell_type": "markdown",
   "metadata": {},
   "source": [
    "# (memo)"
   ]
  },
  {
   "cell_type": "code",
   "execution_count": 4,
   "metadata": {},
   "outputs": [
    {
     "data": {
      "text/plain": [
       "[[[[ 0.27380835-8.87572009e-18j  0.1182118 -7.41489400e-02j]\n",
       "   [ 0.1182118 +7.41489400e-02j  0.07111579-6.93889390e-18j]]\n",
       "\n",
       "  [[ 0.1182118 +7.41489400e-02j  0.44520958-3.62630684e-17j]\n",
       "   [ 0.03095583+6.40249284e-02j  0.19221119+1.20565422e-01j]]\n",
       "\n",
       "  [[ 0.        +0.00000000e+00j  0.        +0.00000000e+00j]\n",
       "   [ 0.        +0.00000000e+00j  0.        +0.00000000e+00j]]\n",
       "\n",
       "  [[ 0.        +0.00000000e+00j  0.        +0.00000000e+00j]\n",
       "   [ 0.        +0.00000000e+00j  0.        +0.00000000e+00j]]]\n",
       "\n",
       "\n",
       " [[[ 0.1182118 -7.41489400e-02j  0.03095583-6.40249284e-02j]\n",
       "   [ 0.44520958-3.62630684e-17j  0.19221119-1.20565422e-01j]]\n",
       "\n",
       "  [[ 0.07111579-6.93889390e-18j  0.19221119-1.20565422e-01j]\n",
       "   [ 0.19221119+1.20565422e-01j  0.72390625-9.44607509e-17j]]\n",
       "\n",
       "  [[ 0.        +0.00000000e+00j  0.        +0.00000000e+00j]\n",
       "   [ 0.        +0.00000000e+00j  0.        +0.00000000e+00j]]\n",
       "\n",
       "  [[ 0.        +0.00000000e+00j  0.        +0.00000000e+00j]\n",
       "   [ 0.        +0.00000000e+00j  0.        +0.00000000e+00j]]]\n",
       "\n",
       "\n",
       " [[[ 0.        +0.00000000e+00j  0.        +0.00000000e+00j]\n",
       "   [ 0.        +0.00000000e+00j  0.        +0.00000000e+00j]]\n",
       "\n",
       "  [[ 0.        +0.00000000e+00j  0.        +0.00000000e+00j]\n",
       "   [ 0.        +0.00000000e+00j  0.        +0.00000000e+00j]]\n",
       "\n",
       "  [[ 0.49895062-1.20862282e-17j -0.2364394 +1.48307786e-01j]\n",
       "   [-0.2364394 -1.48307786e-01j  0.15612525+2.77555756e-17j]]\n",
       "\n",
       "  [[-0.2364394 -1.48307786e-01j  0.15612525+1.77146157e-17j]\n",
       "   [ 0.06795941+1.40558213e-01j -0.07398359-4.64065755e-02j]]]\n",
       "\n",
       "\n",
       " [[[ 0.        +0.00000000e+00j  0.        +0.00000000e+00j]\n",
       "   [ 0.        +0.00000000e+00j  0.        +0.00000000e+00j]]\n",
       "\n",
       "  [[ 0.        +0.00000000e+00j  0.        +0.00000000e+00j]\n",
       "   [ 0.        +0.00000000e+00j  0.        +0.00000000e+00j]]\n",
       "\n",
       "  [[-0.2364394 +1.48307786e-01j  0.06795941-1.40558213e-01j]\n",
       "   [ 0.15612525+1.77146157e-17j -0.07398359+4.64065755e-02j]]\n",
       "\n",
       "  [[ 0.15612525+2.77555756e-17j -0.07398359+4.64065755e-02j]\n",
       "   [-0.07398359-4.64065755e-02j  0.04885272+1.22694356e-17j]]]]"
      ]
     },
     "execution_count": 4,
     "metadata": {},
     "output_type": "execute_result"
    }
   ],
   "source": [
    "instr(random_pred([2]))"
   ]
  },
  {
   "cell_type": "markdown",
   "metadata": {},
   "source": [
    "## 3 dim"
   ]
  },
  {
   "cell_type": "code",
   "execution_count": null,
   "metadata": {
    "collapsed": true
   },
   "outputs": [],
   "source": []
  },
  {
   "cell_type": "markdown",
   "metadata": {},
   "source": [
    "## Entaglement"
   ]
  },
  {
   "cell_type": "code",
   "execution_count": 5,
   "metadata": {
    "collapsed": true
   },
   "outputs": [],
   "source": [
    "convex_state_sum??"
   ]
  },
  {
   "cell_type": "code",
   "execution_count": 37,
   "metadata": {
    "collapsed": true
   },
   "outputs": [],
   "source": [
    "def ss(s_array):\n",
    "    return convex_state_sum(*[(s_array[i,j], ket(i,j)) for i in range(2) for j in range(2)])"
   ]
  },
  {
   "cell_type": "code",
   "execution_count": 40,
   "metadata": {},
   "outputs": [
    {
     "data": {
      "text/plain": [
       "[[0.25 0.   0.   0.  ]\n",
       " [0.   0.25 0.   0.  ]\n",
       " [0.   0.   0.25 0.  ]\n",
       " [0.   0.   0.   0.25]]"
      ]
     },
     "execution_count": 40,
     "metadata": {},
     "output_type": "execute_result"
    }
   ],
   "source": [
    "ss(np.array([[1,1],[1,1]])/4.0)"
   ]
  },
  {
   "cell_type": "code",
   "execution_count": 41,
   "metadata": {},
   "outputs": [
    {
     "data": {
      "text/plain": [
       "numpy.ndarray"
      ]
     },
     "execution_count": 41,
     "metadata": {},
     "output_type": "execute_result"
    }
   ],
   "source": [
    "foo = np.array([[1,2,3],[3,4,5]])\n",
    "type(foo)"
   ]
  },
  {
   "cell_type": "code",
   "execution_count": 14,
   "metadata": {
    "collapsed": true
   },
   "outputs": [],
   "source": [
    "foo = (0.5,ket(0)), (0.5,ket(1))\n",
    "s = convex_state_sum(*foo)"
   ]
  },
  {
   "cell_type": "code",
   "execution_count": 39,
   "metadata": {
    "collapsed": true
   },
   "outputs": [],
   "source": [
    "foo = [ket(0),ket(1),plus,minus,random_state(2)]"
   ]
  },
  {
   "cell_type": "code",
   "execution_count": 44,
   "metadata": {},
   "outputs": [
    {
     "name": "stdout",
     "output_type": "stream",
     "text": [
      "True\n",
      "True\n",
      "True\n",
      "True\n",
      "True\n",
      "True\n",
      "True\n",
      "True\n",
      "True\n",
      "True\n",
      "True\n",
      "True\n",
      "True\n",
      "True\n",
      "True\n",
      "True\n"
     ]
    }
   ],
   "source": [
    "for phi in foo:\n",
    "    for psi in foo:\n",
    "        print(entanglement_test(phi@psi))"
   ]
  },
  {
   "cell_type": "code",
   "execution_count": 35,
   "metadata": {
    "collapsed": true
   },
   "outputs": [],
   "source": [
    "ss = random_state([2,2])"
   ]
  },
  {
   "cell_type": "code",
   "execution_count": 36,
   "metadata": {},
   "outputs": [
    {
     "data": {
      "text/plain": [
       "False"
      ]
     },
     "execution_count": 36,
     "metadata": {},
     "output_type": "execute_result"
    }
   ],
   "source": [
    "entanglement_test(ss)"
   ]
  },
  {
   "cell_type": "code",
   "execution_count": 78,
   "metadata": {},
   "outputs": [
    {
     "data": {
      "text/plain": [
       "([2], [2])"
      ]
     },
     "execution_count": 78,
     "metadata": {},
     "output_type": "execute_result"
    }
   ],
   "source": [
    "s0 = ket(0)\n",
    "p0 = s0.as_pred()\n",
    "(s0.dom, p0.dom)"
   ]
  },
  {
   "cell_type": "code",
   "execution_count": 71,
   "metadata": {},
   "outputs": [
    {
     "data": {
      "text/plain": [
       "([2, 2], [2, 2])"
      ]
     },
     "execution_count": 71,
     "metadata": {},
     "output_type": "execute_result"
    }
   ],
   "source": [
    "s00 = s0@s0\n",
    "p00 = p0@p0\n",
    "(s00.dom, p00.dom)"
   ]
  },
  {
   "cell_type": "code",
   "execution_count": 72,
   "metadata": {},
   "outputs": [
    {
     "data": {
      "text/plain": [
       "([2, 2], [2])"
      ]
     },
     "execution_count": 72,
     "metadata": {},
     "output_type": "execute_result"
    }
   ],
   "source": [
    "c = idn([2])@discard([2])\n",
    "(c.dom, c.cod)"
   ]
  },
  {
   "cell_type": "code",
   "execution_count": 73,
   "metadata": {},
   "outputs": [
    {
     "data": {
      "text/plain": [
       "[[1.+0.j 0.+0.j]\n",
       " [0.+0.j 0.+0.j]]"
      ]
     },
     "execution_count": 73,
     "metadata": {},
     "output_type": "execute_result"
    }
   ],
   "source": [
    "c >> s0@s0"
   ]
  },
  {
   "cell_type": "code",
   "execution_count": 80,
   "metadata": {},
   "outputs": [
    {
     "data": {
      "text/plain": [
       "[2, 2]"
      ]
     },
     "execution_count": 80,
     "metadata": {},
     "output_type": "execute_result"
    }
   ],
   "source": [
    "(idn([2])@discard([2]) << p0).dom"
   ]
  },
  {
   "cell_type": "code",
   "execution_count": 52,
   "metadata": {},
   "outputs": [
    {
     "data": {
      "text/plain": [
       "[2]"
      ]
     },
     "execution_count": 52,
     "metadata": {},
     "output_type": "execute_result"
    }
   ],
   "source": [
    "(idn([2])@discard([2])).cod"
   ]
  },
  {
   "cell_type": "code",
   "execution_count": 7,
   "metadata": {},
   "outputs": [
    {
     "data": {
      "text/plain": [
       "[[0.41695167+0.j         0.16293432-0.03333907j]\n",
       " [0.16293432+0.03333907j 0.58304833+0.j        ]]"
      ]
     },
     "execution_count": 7,
     "metadata": {},
     "output_type": "execute_result"
    }
   ],
   "source": [
    "ss % [0,1]"
   ]
  },
  {
   "cell_type": "code",
   "execution_count": 18,
   "metadata": {},
   "outputs": [
    {
     "data": {
      "text/plain": [
       "[2, 2]"
      ]
     },
     "execution_count": 18,
     "metadata": {},
     "output_type": "execute_result"
    }
   ],
   "source": [
    "ss.dom"
   ]
  },
  {
   "cell_type": "code",
   "execution_count": 20,
   "metadata": {},
   "outputs": [
    {
     "ename": "TypeError",
     "evalue": "can't multiply sequence by non-int of type 'State'",
     "output_type": "error",
     "traceback": [
      "\u001b[0;31m---------------------------------------------------------------------------\u001b[0m",
      "\u001b[0;31mTypeError\u001b[0m                                 Traceback (most recent call last)",
      "\u001b[0;32m<ipython-input-20-b3e2ce875af3>\u001b[0m in \u001b[0;36m<module>\u001b[0;34m()\u001b[0m\n\u001b[0;32m----> 1\u001b[0;31m \u001b[0mkron\u001b[0m\u001b[0;34m(\u001b[0m\u001b[0mss\u001b[0m\u001b[0;34m,\u001b[0m\u001b[0;34m[\u001b[0m\u001b[0;36m4\u001b[0m\u001b[0;34m]\u001b[0m\u001b[0;34m)\u001b[0m\u001b[0;34m\u001b[0m\u001b[0m\n\u001b[0m",
      "\u001b[0;32m~/library/efprob_qu.py\u001b[0m in \u001b[0;36mkron\u001b[0;34m(n, m)\u001b[0m\n\u001b[1;32m   1285\u001b[0m \u001b[0;31m#\u001b[0m\u001b[0;34m\u001b[0m\u001b[0;34m\u001b[0m\u001b[0m\n\u001b[1;32m   1286\u001b[0m \u001b[0;32mdef\u001b[0m \u001b[0mkron\u001b[0m\u001b[0;34m(\u001b[0m\u001b[0mn\u001b[0m\u001b[0;34m,\u001b[0m\u001b[0mm\u001b[0m\u001b[0;34m)\u001b[0m\u001b[0;34m:\u001b[0m\u001b[0;34m\u001b[0m\u001b[0m\n\u001b[0;32m-> 1287\u001b[0;31m     \u001b[0;32mreturn\u001b[0m \u001b[0mChannel\u001b[0m\u001b[0;34m(\u001b[0m\u001b[0mchoi\u001b[0m\u001b[0;34m(\u001b[0m\u001b[0mnp\u001b[0m\u001b[0;34m.\u001b[0m\u001b[0meye\u001b[0m\u001b[0;34m(\u001b[0m\u001b[0mn\u001b[0m\u001b[0;34m*\u001b[0m\u001b[0mm\u001b[0m\u001b[0;34m)\u001b[0m\u001b[0;34m)\u001b[0m\u001b[0;34m,\u001b[0m \u001b[0;34m[\u001b[0m\u001b[0mn\u001b[0m\u001b[0;34m,\u001b[0m \u001b[0mm\u001b[0m\u001b[0;34m]\u001b[0m\u001b[0;34m,\u001b[0m \u001b[0;34m[\u001b[0m\u001b[0mn\u001b[0m\u001b[0;34m*\u001b[0m\u001b[0mm\u001b[0m\u001b[0;34m]\u001b[0m\u001b[0;34m)\u001b[0m\u001b[0;34m\u001b[0m\u001b[0m\n\u001b[0m\u001b[1;32m   1288\u001b[0m \u001b[0;34m\u001b[0m\u001b[0m\n\u001b[1;32m   1289\u001b[0m \u001b[0;31m#\u001b[0m\u001b[0;34m\u001b[0m\u001b[0;34m\u001b[0m\u001b[0m\n",
      "\u001b[0;31mTypeError\u001b[0m: can't multiply sequence by non-int of type 'State'"
     ]
    }
   ],
   "source": [
    "kron(ss,[4])"
   ]
  },
  {
   "cell_type": "code",
   "execution_count": null,
   "metadata": {
    "collapsed": true
   },
   "outputs": [],
   "source": []
  },
  {
   "cell_type": "code",
   "execution_count": null,
   "metadata": {
    "collapsed": true
   },
   "outputs": [],
   "source": []
  },
  {
   "cell_type": "code",
   "execution_count": null,
   "metadata": {
    "collapsed": true
   },
   "outputs": [],
   "source": []
  }
 ],
 "metadata": {
  "kernelspec": {
   "display_name": "Python 3",
   "language": "python",
   "name": "python3"
  },
  "language_info": {
   "codemirror_mode": {
    "name": "ipython",
    "version": 3
   },
   "file_extension": ".py",
   "mimetype": "text/x-python",
   "name": "python",
   "nbconvert_exporter": "python",
   "pygments_lexer": "ipython3",
   "version": "3.6.4"
  },
  "latex_envs": {
   "LaTeX_envs_menu_present": true,
   "autoclose": false,
   "autocomplete": true,
   "bibliofile": "biblio.bib",
   "cite_by": "apalike",
   "current_citInitial": 1,
   "eqLabelWithNumbers": true,
   "eqNumInitial": 1,
   "hotkeys": {
    "equation": "Ctrl-E",
    "itemize": "Ctrl-I"
   },
   "labels_anchors": false,
   "latex_user_defs": false,
   "report_style_numbering": false,
   "user_envs_cfg": false
  },
  "toc": {
   "base_numbering": 1,
   "nav_menu": {
    "height": "146px",
    "width": "228px"
   },
   "number_sections": true,
   "sideBar": true,
   "skip_h1_title": false,
   "title_cell": "Table of Contents",
   "title_sidebar": "Contents",
   "toc_cell": false,
   "toc_position": {},
   "toc_section_display": "block",
   "toc_window_display": false
  },
  "varInspector": {
   "cols": {
    "lenName": 16,
    "lenType": 16,
    "lenVar": 40
   },
   "kernels_config": {
    "python": {
     "delete_cmd_postfix": "",
     "delete_cmd_prefix": "del ",
     "library": "var_list.py",
     "varRefreshCmd": "print(var_dic_list())"
    },
    "r": {
     "delete_cmd_postfix": ") ",
     "delete_cmd_prefix": "rm(",
     "library": "var_list.r",
     "varRefreshCmd": "cat(var_dic_list()) "
    }
   },
   "types_to_exclude": [
    "module",
    "function",
    "builtin_function_or_method",
    "instance",
    "_Feature"
   ],
   "window_display": false
  }
 },
 "nbformat": 4,
 "nbformat_minor": 2
}
